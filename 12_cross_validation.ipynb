{
 "cells": [
  {
   "cell_type": "markdown",
   "metadata": {},
   "source": [
    "@author: Octavio Gutiérrez de Código Máquina\n",
    "\n",
    "URL del canal: https://www.youtube.com/CodigoMaquina\n",
    "\n",
    "URL del video: https://youtu.be/Qnth2VXopLg\n",
    "\n",
    "<h1 style=\"color:red;\"> Evaluación de Modelos</h1>\n",
    "<h2 style=\"color:blue;\"> Validación Cruzada (Cross-validation)</h2>"
   ]
  },
  {
   "cell_type": "code",
   "execution_count": 4,
   "metadata": {
    "scrolled": false
   },
   "outputs": [
    {
     "name": "stdout",
     "output_type": "stream",
     "text": [
      "0.97\n",
      "0.76\n"
     ]
    }
   ],
   "source": [
    "import pandas as pd \n",
    "from sklearn.ensemble import RandomForestClassifier\n",
    "from sklearn.model_selection import cross_val_score\n",
    "\n",
    "personas = pd.read_csv(\"salario.csv\")\n",
    "\n",
    "bosque = RandomForestClassifier()\n",
    "\n",
    "bosque.fit(personas[[\"edad\", \"estudio\"]].values,\n",
    "          personas[\"ingreso\"].values)\n",
    "\n",
    "print(bosque.score(personas[[\"edad\", \"estudio\"]].values,\n",
    "                  personas[\"ingreso\"].values))\n",
    "\n",
    "print(cross_val_score(bosque,\n",
    "                     personas[[\"edad\", \"estudio\"]].values,\n",
    "                     personas[\"ingreso\"].values,\n",
    "                     cv=5).mean())\n"
   ]
  },
  {
   "cell_type": "markdown",
   "metadata": {},
   "source": [
    "<BR><BR><BR><BR><BR><BR><BR><BR><BR><BR><BR><BR><BR><BR><BR><BR><BR><BR><BR><BR><BR><BR><BR><BR><BR>"
   ]
  }
 ],
 "metadata": {
  "kernelspec": {
   "display_name": "Python 3",
   "language": "python",
   "name": "python3"
  },
  "language_info": {
   "codemirror_mode": {
    "name": "ipython",
    "version": 3
   },
   "file_extension": ".py",
   "mimetype": "text/x-python",
   "name": "python",
   "nbconvert_exporter": "python",
   "pygments_lexer": "ipython3",
   "version": "3.8.5"
  }
 },
 "nbformat": 4,
 "nbformat_minor": 4
}
